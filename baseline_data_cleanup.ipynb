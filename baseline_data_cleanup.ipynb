{
 "cells": [
  {
   "cell_type": "markdown",
   "id": "fce79f7b-0b57-46aa-a21b-c88f6e1a2355",
   "metadata": {},
   "source": [
    "# BASELINE HISTORICAL DATA"
   ]
  },
  {
   "cell_type": "code",
   "execution_count": 1,
   "id": "0413b433-bc49-445f-9643-d6c10c778b33",
   "metadata": {},
   "outputs": [],
   "source": [
    "# Import dependencies\n",
    "import pandas as pd\n",
    "import numpy as np\n",
    "import os\n",
    "import mysql.connector\n",
    "\n",
    "\n",
    "from config import hostname, port, username, password, database"
   ]
  },
  {
   "cell_type": "code",
   "execution_count": 2,
   "id": "f069a8e0-9348-4d92-b24f-3ff249a4dfec",
   "metadata": {},
   "outputs": [],
   "source": [
    "# # Import Excel or csv file for survey data\n",
    "# baseline1 = pd.read_csv('original_data/Kenya_2019_BGS_LivelihoodProgram_Kakuma_Cohort1_baseline_copy.csv')\n",
    "# # Create data frame for survey data\n",
    "# kenya_2019_001 = pd.DataFrame(data = baseline1)\n",
    "# kenya_2019_001.head()"
   ]
  },
  {
   "cell_type": "code",
   "execution_count": 3,
   "id": "18181141-c830-450e-b455-7f5f03d08ef2",
   "metadata": {},
   "outputs": [
    {
     "name": "stdout",
     "output_type": "stream",
     "text": [
      "Requirement already satisfied: ipython-sql in c:\\users\\lara\\anaconda3\\envs\\pythondata\\lib\\site-packages (0.5.0)\n",
      "Requirement already satisfied: prettytable in c:\\users\\lara\\anaconda3\\envs\\pythondata\\lib\\site-packages (from ipython-sql) (3.7.0)\n",
      "Requirement already satisfied: ipython in c:\\users\\lara\\anaconda3\\envs\\pythondata\\lib\\site-packages (from ipython-sql) (8.13.2)\n",
      "Requirement already satisfied: sqlalchemy>=2.0 in c:\\users\\lara\\anaconda3\\envs\\pythondata\\lib\\site-packages (from ipython-sql) (2.0.15)\n",
      "Requirement already satisfied: sqlparse in c:\\users\\lara\\anaconda3\\envs\\pythondata\\lib\\site-packages (from ipython-sql) (0.4.4)\n",
      "Requirement already satisfied: six in c:\\users\\lara\\anaconda3\\envs\\pythondata\\lib\\site-packages (from ipython-sql) (1.16.0)\n",
      "Requirement already satisfied: ipython-genutils in c:\\users\\lara\\anaconda3\\envs\\pythondata\\lib\\site-packages (from ipython-sql) (0.2.0)\n",
      "Requirement already satisfied: typing-extensions>=4.2.0 in c:\\users\\lara\\anaconda3\\envs\\pythondata\\lib\\site-packages (from sqlalchemy>=2.0->ipython-sql) (4.5.0)\n",
      "Requirement already satisfied: greenlet!=0.4.17 in c:\\users\\lara\\anaconda3\\envs\\pythondata\\lib\\site-packages (from sqlalchemy>=2.0->ipython-sql) (2.0.2)\n",
      "Requirement already satisfied: backcall in c:\\users\\lara\\anaconda3\\envs\\pythondata\\lib\\site-packages (from ipython->ipython-sql) (0.2.0)\n",
      "Requirement already satisfied: decorator in c:\\users\\lara\\anaconda3\\envs\\pythondata\\lib\\site-packages (from ipython->ipython-sql) (5.1.1)\n",
      "Requirement already satisfied: jedi>=0.16 in c:\\users\\lara\\anaconda3\\envs\\pythondata\\lib\\site-packages (from ipython->ipython-sql) (0.18.2)\n",
      "Requirement already satisfied: matplotlib-inline in c:\\users\\lara\\anaconda3\\envs\\pythondata\\lib\\site-packages (from ipython->ipython-sql) (0.1.6)\n",
      "Requirement already satisfied: pickleshare in c:\\users\\lara\\anaconda3\\envs\\pythondata\\lib\\site-packages (from ipython->ipython-sql) (0.7.5)\n",
      "Requirement already satisfied: prompt-toolkit!=3.0.37,<3.1.0,>=3.0.30 in c:\\users\\lara\\anaconda3\\envs\\pythondata\\lib\\site-packages (from ipython->ipython-sql) (3.0.38)\n",
      "Requirement already satisfied: pygments>=2.4.0 in c:\\users\\lara\\anaconda3\\envs\\pythondata\\lib\\site-packages (from ipython->ipython-sql) (2.15.1)\n",
      "Requirement already satisfied: stack-data in c:\\users\\lara\\anaconda3\\envs\\pythondata\\lib\\site-packages (from ipython->ipython-sql) (0.6.2)\n",
      "Requirement already satisfied: traitlets>=5 in c:\\users\\lara\\anaconda3\\envs\\pythondata\\lib\\site-packages (from ipython->ipython-sql) (5.9.0)\n",
      "Requirement already satisfied: colorama in c:\\users\\lara\\anaconda3\\envs\\pythondata\\lib\\site-packages (from ipython->ipython-sql) (0.4.6)\n",
      "Requirement already satisfied: wcwidth in c:\\users\\lara\\anaconda3\\envs\\pythondata\\lib\\site-packages (from prettytable->ipython-sql) (0.2.6)\n",
      "Requirement already satisfied: parso<0.9.0,>=0.8.0 in c:\\users\\lara\\anaconda3\\envs\\pythondata\\lib\\site-packages (from jedi>=0.16->ipython->ipython-sql) (0.8.3)\n",
      "Requirement already satisfied: executing>=1.2.0 in c:\\users\\lara\\anaconda3\\envs\\pythondata\\lib\\site-packages (from stack-data->ipython->ipython-sql) (1.2.0)\n",
      "Requirement already satisfied: asttokens>=2.1.0 in c:\\users\\lara\\anaconda3\\envs\\pythondata\\lib\\site-packages (from stack-data->ipython->ipython-sql) (2.2.1)\n",
      "Requirement already satisfied: pure-eval in c:\\users\\lara\\anaconda3\\envs\\pythondata\\lib\\site-packages (from stack-data->ipython->ipython-sql) (0.2.2)\n"
     ]
    }
   ],
   "source": [
    "# Install SQL Magic\n",
    "!pip install ipython-sql\n",
    "\n",
    "# Loading  SQL module\n",
    "%load_ext sql"
   ]
  },
  {
   "cell_type": "code",
   "execution_count": 4,
   "id": "415b008f-c1a9-4cc0-b026-e011c0bdfd58",
   "metadata": {},
   "outputs": [],
   "source": [
    "# Configure SQL Magic to return queries as dataframes\n",
    "%config SqlMagic.autopandas=True"
   ]
  },
  {
   "cell_type": "code",
   "execution_count": 5,
   "id": "b4c057a7-c614-45f2-aaa7-698de5e21db9",
   "metadata": {},
   "outputs": [],
   "source": [
    "# Connect to MySQL\n",
    "cnx = mysql.connector.connect(host = hostname,\n",
    "                              port = port,\n",
    "                              user = username,\n",
    "                              passwd = password,\n",
    "                              database = database\n",
    "                                     )\n",
    "# df = pd.read_sql_query('Select * FROM Kenya_2019_BGS_LivelihoodProgram_Kakuma_Cohort1', cnx)\n",
    "# df.head()"
   ]
  },
  {
   "cell_type": "code",
   "execution_count": 7,
   "id": "41e359b9-30b4-45fa-8bd8-b7e14c8c42f8",
   "metadata": {},
   "outputs": [
    {
     "name": "stdout",
     "output_type": "stream",
     "text": [
      "('2020_Merged_dataset_3rd_Cohort_Data',)\n",
      "('Cohort3_new_baseline',)\n",
      "('Interim_Kenya_2020_BGS_LivelihoodProgram_Kakuma_Cohort3_Endline',)\n",
      "('Kenya_2019_BGS_LivelihoodProgram_Kakuma_Cohort1_Baseline',)\n",
      "('Kenya_2019_BGS_LivelihoodProgram_Kakuma_Cohort1_Endline',)\n",
      "('Kenya_2020_BGS_LivelihoodProgram_Kakuma_Cohort2_Baseline',)\n",
      "('Kenya_2020_BGS_LivelihoodProgram_Kakuma_Cohort2_Endline',)\n",
      "('Kenya_2020_BGS_LivelihoodProgram_Kakuma_Cohort3_Baseline',)\n",
      "('Kenya_2020_BGS_LivelihoodProgram_Kakuma_Cohort3_Baseline_old',)\n",
      "('Kenya_2020_BGS_LivelihoodProgram_Kakuma_Cohort3_Endline',)\n",
      "('Kenya_2020_CovidRecoveryGrant_Kakuma_Baseline',)\n",
      "('Kenya_2020_CovidRecoveryGrant_Kakuma_Endline',)\n",
      "('Kenya_2020_Investment_Kakuma_Q1_Baseline',)\n",
      "('Kenya_2020_Investment_Kakuma_Q1_Endline',)\n",
      "('Kenya_2020_Investment_Kakuma_Q2_Baseline',)\n",
      "('Kenya_2020_Investment_Kakuma_Q2_Endline',)\n",
      "('Kenya_2021_BGS_LivelihoodProgram_Garissa_Cohort1_Baseline',)\n",
      "('Kenya_2021_BGS_LivelihoodProgram_Garissa_Cohort1_Endline',)\n",
      "('Kenya_2021_BGS_LivelihoodProgram_Kakuma_Cohort4_Baseline',)\n",
      "('Kenya_2021_BGS_LivelihoodProgram_Kakuma_Cohort4_Endline',)\n",
      "('Kenya_2021_Investment_Garissa_Q3_Baseline',)\n",
      "('Kenya_2021_Investment_Garissa_Q3_Endline',)\n",
      "('Kenya_2021_Investment_Kakuma_Q1_Baseline',)\n",
      "('Kenya_2021_Investment_Kakuma_Q1_Endline',)\n",
      "('Kenya_2021_Investment_Kakuma_Q2_Baseline',)\n",
      "('Kenya_2021_Investment_Kakuma_Q2_Endline',)\n",
      "('Kenya_2021_Investment_Kakuma_Q3_Baseline',)\n",
      "('Kenya_2021_Investment_Kakuma_Q3_Endline',)\n",
      "('Kenya_2022_BGS_LivelihoodProgram_Garissa_Cohort2_Baseline',)\n",
      "('Kenya_2022_Investment_Kakuma_Q1_Baseline',)\n",
      "('Maison_Shalom_Relief_Grant_Baseline',)\n",
      "('Participants',)\n",
      "('Rwanda_2017_BGS_LivelihoodProgram_Baseline',)\n",
      "('Rwanda_2017_BGS_LivelihoodProgram_Endline',)\n",
      "('Rwanda_2018_BGS_LivelihoodProgram_Baseline',)\n",
      "('Rwanda_2018_BGS_LivelihoodProgram_Endline',)\n",
      "('Rwanda_2019_BGS_BKUrumuri_Baseline',)\n",
      "('Rwanda_2019_BGS_BKUrumuri_Endline',)\n",
      "('Rwanda_2019_BGS_HangaAhazaza_Baseline',)\n",
      "('Rwanda_2019_BGS_HangaAhazaza_Endline',)\n",
      "('Rwanda_2019_BGS_ITCMarkUP_Baseline',)\n",
      "('Rwanda_2019_BGS_ITCMarkUP_Endline',)\n",
      "('Rwanda_2019_BGS_Kepler_Baseline',)\n",
      "('Rwanda_2019_BGS_Kepler_Endline',)\n",
      "('Rwanda_2019_BGS_OPFMasoro_Baseline',)\n",
      "('Rwanda_2019_BGS_OPFMasoro_Endline',)\n",
      "('Rwanda_2019_BGS_StandardClients_Baseline',)\n",
      "('Rwanda_2019_BGS_StandardClients_Endline',)\n",
      "('Rwanda_2019_BGS_livelihoodProgram_Baseline',)\n",
      "('Rwanda_2019_BGS_livelihoodProgram_Endline',)\n",
      "('Rwanda_2019_Investment_Baseline',)\n",
      "('Rwanda_2019_Investment_Endline',)\n",
      "('Rwanda_2020_BGS_BKUrumuri_Baseline',)\n",
      "('Rwanda_2020_BGS_BKUrumuri_Endline',)\n",
      "('Rwanda_2020_BGS_CoronaAction_Baseline',)\n",
      "('Rwanda_2020_BGS_CoronaAction_Endline',)\n",
      "('Rwanda_2020_BGS_GIZ_Baseline',)\n",
      "('Rwanda_2020_BGS_GIZ_Endline',)\n",
      "('Rwanda_2020_BGS_HangaAhazaza_Baseline',)\n",
      "('Rwanda_2020_BGS_HangaAhazaza_Endline',)\n",
      "('Rwanda_2020_BGS_ITCMarkUP_Baseline',)\n",
      "('Rwanda_2020_BGS_ITCMarkUP_Endline',)\n",
      "('Rwanda_2020_BGS_Kepler_Baseline',)\n",
      "('Rwanda_2020_BGS_Kepler_Endline',)\n",
      "('Rwanda_2020_BGS_LivelihoodProgram_FinancialLiteracy_Baseline',)\n",
      "('Rwanda_2020_BGS_LivelihoodProgram_FinancialLiteracy_Endline',)\n",
      "('Rwanda_2020_BGS_Miniyouth_Baseline',)\n",
      "('Rwanda_2020_BGS_Miniyouth_Endline',)\n",
      "('Rwanda_2020_BGS_OPFMasoro_Baseline',)\n",
      "('Rwanda_2020_BGS_OPFMasoro_Baseline_old',)\n",
      "('Rwanda_2020_BGS_OPFMasoro_Endline',)\n",
      "('Rwanda_2020_BGS_OPFMasoro_Endline_old',)\n",
      "('Rwanda_2020_BGS_SNV_Baseline',)\n",
      "('Rwanda_2020_BGS_SNV_Endline',)\n",
      "('Rwanda_2020_BGS_UNWomen_Cohort1_Baseline',)\n",
      "('Rwanda_2020_BGS_UNWomen_Cohort1_Endline',)\n",
      "('Rwanda_2020_BGS_UNWomen_Cohort2_Baseline',)\n",
      "('Rwanda_2020_BGS_UNWomen_Cohort2_Endline',)\n",
      "('Rwanda_2020_BGS_livelihoodProgram_Baseline',)\n",
      "('Rwanda_2020_BGS_livelihoodProgram_Endline',)\n",
      "('Rwanda_2020_CovidRecoveryGrant_Baseline',)\n",
      "('Rwanda_2020_CovidRecoveryGrant_Endline',)\n",
      "('Rwanda_2020_CovidRecoveryGrant_Interim07',)\n",
      "('Rwanda_2020_CovidRecoveryGrant_Interim08',)\n",
      "('Rwanda_2020_CovidRecoveryGrant_Interim09',)\n",
      "('Rwanda_2020_CovidRecoveryGrant_Interim11',)\n",
      "('Rwanda_2020_Investment_Baseline',)\n",
      "('Rwanda_2020_Investment_Endline',)\n",
      "('Rwanda_2020_Investment_Q3_Endline',)\n",
      "('Rwanda_2021_BGS_BKUrumuri_Baseline',)\n",
      "('Rwanda_2021_BGS_BKUrumuri_Endline',)\n",
      "('Rwanda_2021_BGS_DigitalAmbassadors_Baseline',)\n",
      "('Rwanda_2021_BGS_DigitalAmbassadors_Endline',)\n",
      "('Rwanda_2021_BGS_HangaAhazaza_Baseline',)\n",
      "('Rwanda_2021_BGS_HangaAhazaza_Endline',)\n",
      "('Rwanda_2021_BGS_LivelihoodProgram_Baseline',)\n",
      "('Rwanda_2021_BGS_LivelihoodProgram_Endline',)\n",
      "('Rwanda_2021_BGS_LivelihoodProgram_FinancialLiteracy_Baseline',)\n",
      "('Rwanda_2021_BGS_LivelihoodProgram_FinancialLiteracy_Endline',)\n",
      "('Rwanda_2021_BGS_MTNLevelUP_Baseline',)\n",
      "('Rwanda_2021_BGS_MTNLevelUP_Endline',)\n",
      "('Rwanda_2021_BGS_OPFMasoro_Baseline',)\n",
      "('Rwanda_2021_BGS_OPFMasoro_Endline',)\n",
      "('Rwanda_2021_BGS_UGHE_Baseline',)\n",
      "('Rwanda_2021_BGS_UGHE_Endline',)\n",
      "('Rwanda_2021_BGS_UNWomen_Baseline',)\n",
      "('Rwanda_2021_BGS_UNWomen_Endline',)\n",
      "('Rwanda_2021_Investment_Q1_Baseline',)\n",
      "('Rwanda_2021_Investment_Q1_Endline',)\n",
      "('Rwanda_2021_Investment_Q2_Baseline',)\n",
      "('Rwanda_2021_Investment_Q2_Endline',)\n",
      "('Rwanda_2021_Investment_Q2_Endline_old',)\n",
      "('Rwanda_2021_Investment_Q3_Baseline',)\n",
      "('Rwanda_2021_Investment_Q3_Endline',)\n",
      "('UN_Women_First_Cohort_Baseline',)\n",
      "('currency_exchange',)\n"
     ]
    }
   ],
   "source": [
    "cursor=cnx.cursor()\n",
    "\n",
    "cursor.execute(\"SHOW TABLES\")\n",
    "\n",
    "for table_name in cursor:\n",
    "   print(table_name)"
   ]
  },
  {
   "cell_type": "code",
   "execution_count": 8,
   "id": "a11f71d9-eeb3-4c0c-a95a-8fc89bcb1d6a",
   "metadata": {},
   "outputs": [],
   "source": [
    "\n",
    "# # This is information about using sql magic to write sql in a ipynb file\n",
    "# https://gist.github.com/ttadesusi/69224203c01ff107f735d66496bf26a2\n",
    "\n",
    "# https://notebook.community/richjimenez/mysql-data-raspberry-pi/deliver/lesson-2-jupyter-notebook-for-data-analysis\n",
    "# https://alpargur.medium.com/how-to-connect-jupyter-notebook-with-a-database-using-mysql-connector-152c1b00b939"
   ]
  },
  {
   "cell_type": "markdown",
   "id": "88398000-a534-400a-831d-2ba3a8422114",
   "metadata": {},
   "source": [
    "# temporary database close"
   ]
  },
  {
   "cell_type": "code",
   "execution_count": null,
   "id": "c420fbad-a90b-419e-b7f6-fed8a43ccf88",
   "metadata": {},
   "outputs": [],
   "source": [
    "cnx.close()"
   ]
  },
  {
   "cell_type": "code",
   "execution_count": null,
   "id": "96283534-da1f-45da-be5d-df9e868e294a",
   "metadata": {},
   "outputs": [],
   "source": [
    "# Add columns with survey ID, survey name\n",
    "kenya_2019_001.insert(0, 'survey_id', 'KEN-2019-001')\n",
    "kenya_2019_001.head()"
   ]
  },
  {
   "cell_type": "markdown",
   "id": "7feb85d7-a2c2-4c49-84f8-3fd384e18a0d",
   "metadata": {},
   "source": [
    "## Removing Irrelevant Data"
   ]
  },
  {
   "cell_type": "code",
   "execution_count": null,
   "id": "03ac7cdc-f9ad-495f-a09a-7477a7c14276",
   "metadata": {},
   "outputs": [],
   "source": [
    "# Filter out inactive businesses\n",
    "filtered_survey_list = [\"Kenya_2021_Investment_Kakuma_Q3_Endline\",\n",
    "\"Kenya_2021_BGS_LivelihoodProgram_Garissa_Cohort1_Endline\",\n",
    "\"Kenya_2021_BGS_LivelihoodProgram_Garissa_Cohort1_Baseline\",\n",
    "\"Kenya_2021_BGS_LivelihoodProgram_Kakuma_Cohort4_Endline\",\n",
    "\"Rwanda_2021_BGS_LivelihoodProgram_FinancialLiteracy_Endline\",\n",
    "\"Rwanda_2020_BGS_CoronaAction_Baseline\",\n",
    "\"Rwanda_2020_BGS_GIZ_Endline\",\n",
    "\"Rwanda_2020_BGS_OPFMasoro_Endline\",\n",
    "\"Rwanda_2020_BGS_OPFMasoro_Baseline\",\n",
    "\"Kenya_2020_CovidRecoveryGrant_Kakuma_Endline\",\n",
    "\"Kenya_2020_CovidRecoveryGrant_Kakuma_Baseline\",\n",
    "\"Rwanda_2020_CovidRecoveryGrant_Endline\",\n",
    "\"Rwanda_2021_BGS_LivelihoodProgram_Endline\",\n",
    "\"Rwanda_2021_BGS_LivelihoodProgram_Baseline\",\n",
    "\"Rwanda_2019_BGS_BKUrumuri_Endline\",\n",
    "\"Rwanda_2019_BGS_OPFMasoro_Endline\",\n",
    "\"Rwanda_2021_BGS_UGHE_Endline\",\n",
    "\"Rwanda_2021_BGS_BKUrumuri_Endline\",\n",
    "\"Kenya_2020_BGS_LivelihoodProgram_Kakuma_Cohort2_Endline\",\n",
    "\"Kenya_2020_BGS_LivelihoodProgram_Kakuma_Cohort2_Baseline\",\n",
    "\"Kenya_2020_BGS_LivelihoodProgram_Kakuma_Cohort3_Baseline\",\n",
    "\"Rwanda_2018_BGS_LivelihoodProgram_Endline\",\n",
    "\"Rwanda_2020_CovidRecoveryGrant_Baseline\",\n",
    "\"Rwanda_2020_BGS_LivelihoodProgram_FinancialLiteracy_Endline\",\n",
    "\"Rwanda_2021_BGS_HangaAhazaza_Endline\",\n",
    "\"Rwanda_2021_BGS_OPFMasoro_Endline\",\n",
    "\"Rwanda_2019_BGS_Kepler_Endline\",\n",
    "\"Rwanda_2019_BGS_Kepler_Baseline\",\n",
    "\"Rwanda_2020_BGS_HangaAhazaza_Endline\",\n",
    "\"Rwanda_2020_BGS_HangaAhazaza_Baseline\",\n",
    "\"Rwanda_2020_BGS_Kepler_Endline\",\n",
    "\"Rwanda_2020_BGS_Miniyouth_Baseline\",\n",
    "\"Rwanda_2020_BGS_Miniyouth_Endline\",\n",
    "\"Rwanda_2020_BGS_SNV_Endline\",\n",
    "\"Kenya_2019_BGS_LivelihoodProgram_Kakuma_Cohort1_Endline\",\n",
    "\"Kenya_2020_BGS_LivelihoodProgram_Kakuma_Cohort2_Endline\",\n",
    "\"Kenya_2020_BGS_LivelihoodProgram_Kakuma_Cohort3_Endline\",\n",
    "\"Kenya_2019_BGS_LivelihoodProgram_Kakuma_Cohort1_Baseline\",\n",
    "\"Kenya_2021_Investment_Kakuma_Q2_Endline\"]\n",
    "\n",
    "\n",
    "\n",
    "\n",
    "\n"
   ]
  },
  {
   "cell_type": "code",
   "execution_count": null,
   "id": "74071c7e-eef2-4643-942d-7f1f1944d032",
   "metadata": {},
   "outputs": [],
   "source": [
    "# EXPERIMENT\n",
    "df = pd.DataFrame({'team': ['A', 'A', 'A', 'A', 'A', 'A', 'A', 'A'],\n",
    "                   'points': [18, 22, 0,14, 14, 11, 20, 28],\n",
    "                   'assists': [5, 7, 7, 9, 12, 9, 9, 4],\n",
    "                   'rebounds': [11, 8, 10, 6, 6, 5, 9, 12]})\n",
    "df"
   ]
  },
  {
   "cell_type": "code",
   "execution_count": null,
   "id": "79937cec-4021-4a43-b9a9-2f7168839383",
   "metadata": {},
   "outputs": [],
   "source": [
    "# EXPERIMENT\n",
    "df2 = pd.DataFrame({'column_1': ['A', 'B', 'C', 'D', 'H'],\n",
    "\t\t\t'column_2': ['points,assistance,rebounder','pointy, assists, banana','point_value, rebounds, 0', 'point, 0, orange', 'points, assists, reboundy']})\n",
    "df2"
   ]
  },
  {
   "cell_type": "code",
   "execution_count": null,
   "id": "523219a3-dab4-4c95-834f-4c9656e14ad0",
   "metadata": {},
   "outputs": [],
   "source": [
    "# EXPERIMENT\n",
    "result1 = df.iloc[0]['team']\n",
    "result2 = df2.iloc[0]['column_1']\n",
    "\n",
    "if result1 == result2:\n",
    "    result3 = df2.iloc[0]['column_2']\n",
    "    print(result3)\n",
    "else:\n",
    "    print('no match')"
   ]
  },
  {
   "cell_type": "code",
   "execution_count": null,
   "id": "486f5e0b-4b67-4d10-b961-8501b2f64e60",
   "metadata": {},
   "outputs": [],
   "source": []
  },
  {
   "cell_type": "code",
   "execution_count": null,
   "id": "f675b9b7-0e21-4237-8039-e058c2e25194",
   "metadata": {},
   "outputs": [],
   "source": [
    "# Get list of column names\n",
    "column_names = list(kenya_2019_001.columns.values)\n",
    "column_names"
   ]
  },
  {
   "cell_type": "code",
   "execution_count": null,
   "id": "172c29c4-ee1c-407a-bc00-228b2378b44d",
   "metadata": {},
   "outputs": [],
   "source": [
    "# Create new data frame with only the relevant columns\n",
    "kenya_2019_001_selected = kenya_2019_001[['survey_id',\n",
    "                                      'demo_age',\n",
    "                                      'demo_gender',\n",
    "                                      'entreprenuer_strata',\n",
    "                                      'assets_acquired_6']]\n",
    "\n",
    "# Change column names to match Excel\n",
    "kenya_2019_001_base = kenya_2019_001_selected.rename(columns = {'demo_gender': 'demo_gender_id'})\n",
    "\n",
    "# If survey didn't include questions for key metrics, add empty columns\n",
    "kenya_2019_001_base['asset_indicator_base'] = '1'\n",
    "kenya_2019_001_base['hh_expense_indicator_base'] = ''\n",
    "kenya_2019_001_base['jobs_created_base'] = ''\n",
    "kenya_2019_001_base['revenue_base'] = ''\n",
    "\n",
    "# # Rearrange column order to match Excel spreadsheet\n",
    "\n",
    "kenya_2019_001_base.head()"
   ]
  },
  {
   "cell_type": "markdown",
   "id": "6448ca2a-d022-4129-9808-f83b041cfe4f",
   "metadata": {},
   "source": [
    "## Standardize Remaining Data"
   ]
  },
  {
   "cell_type": "code",
   "execution_count": null,
   "id": "9675cad5-857c-4644-9b76-73606f5651d1",
   "metadata": {},
   "outputs": [],
   "source": [
    "# Check data types\n",
    "kenya_2019_001_base.dtypes"
   ]
  },
  {
   "cell_type": "code",
   "execution_count": null,
   "id": "b2b566ab-d2a5-45be-a403-38779a46fde8",
   "metadata": {},
   "outputs": [],
   "source": [
    "# Check null values (some columns are OK to have null values)\n",
    "kenya_2019_001_base.isna().sum()"
   ]
  },
  {
   "cell_type": "code",
   "execution_count": null,
   "id": "3a71080c-1228-4e99-9ab3-9f6f90e642f3",
   "metadata": {},
   "outputs": [],
   "source": [
    "# Add column for age categories\n",
    "kenya_2019_001_base.insert(2, 'demo_age_category', '')\n",
    "\n",
    "conditions = [\n",
    "    (kenya_2019_001_base['demo_age'] < 36),\n",
    "    (kenya_2019_001_base['demo_age'] >= 36) & (kenya_2019_001_base['demo_age'] < 46),\n",
    "    (kenya_2019_001_base['demo_age'] >= 46) & (kenya_2019_001_base['demo_age'] < 56),\n",
    "    (kenya_2019_001_base['demo_age'] >= 56)\n",
    "]\n",
    "\n",
    "values = ['18-35 years old', '36-45 years old', '45-55 years old', '56+ years old']\n",
    "\n",
    "kenya_2019_001_base['demo_age_category'] = np.select(conditions, values)\n",
    "\n",
    "kenya_2019_001_base.head()\n"
   ]
  },
  {
   "cell_type": "code",
   "execution_count": null,
   "id": "153a5c8c-9b95-4b61-bd0a-fac4b667e388",
   "metadata": {},
   "outputs": [],
   "source": [
    "# Convert male/female to 0/1 if necessary \n",
    "# no changes needed for this survey"
   ]
  },
  {
   "cell_type": "code",
   "execution_count": null,
   "id": "0bbf31b8-e887-43aa-b9cf-3c8281ede2c2",
   "metadata": {},
   "outputs": [],
   "source": [
    "# Convert text values on demo_strata_id as needed \n",
    "kenya_2019_001_base.insert(5, 'demo_strata_id', '')\n",
    "\n",
    "conditions_strata = [\n",
    "    (kenya_2019_001_base['entreprenuer_strata'] == 'kenyan_client'),\n",
    "    (kenya_2019_001_base['entreprenuer_strata'] == 'refugee-client')\n",
    "]\n",
    "\n",
    "values_strata = [1,0]\n",
    "\n",
    "kenya_2019_001_base['demo_strata_id'] = np.select(conditions_strata, values_strata)\n",
    "\n",
    "kenya_2019_001_base.head()"
   ]
  },
  {
   "cell_type": "code",
   "execution_count": null,
   "id": "082a748c-9c65-4a99-a53b-1d2846c7f7b2",
   "metadata": {},
   "outputs": [],
   "source": [
    "# Drop text columns that have been converted to numeric\n",
    "kenya_2019_001_base.drop(columns=['entreprenuer_strata'], inplace = True)"
   ]
  },
  {
   "cell_type": "markdown",
   "id": "ee0089c9-598f-4c25-87d3-412aeb42bbfc",
   "metadata": {},
   "source": [
    "## Transform Raw Data into Power BI Indicators"
   ]
  },
  {
   "cell_type": "code",
   "execution_count": null,
   "id": "3d424ec8-c463-4d07-983b-87f983fae3f3",
   "metadata": {},
   "outputs": [],
   "source": [
    "# Calculate asset indicator\n",
    "# kenya_2019_001_base['assets_acquired_6'] = kenya_2019_001_base['assets_acquired_6'.fillna(0, inplace = True)]\n",
    "\n",
    "\n",
    "# kenya_2019_001_base.loc[kenya_2019_001_base['assets_acquired_6'] == \"NaN\", 'asset_indicator_base'] = 0\n",
    "# kenya_2019_001_base.tail(10)\n",
    "kenya_2019_001_base.drop(columns=['assets_acquired_6'], inplace = True)"
   ]
  },
  {
   "cell_type": "code",
   "execution_count": null,
   "id": "0fcb6283-ad35-4ff1-a033-3672eb811533",
   "metadata": {},
   "outputs": [],
   "source": [
    "# Calculate household expense indicator\n",
    "# None for this survey"
   ]
  },
  {
   "cell_type": "code",
   "execution_count": null,
   "id": "56156100-b404-4a64-be23-7f80fafcbc5e",
   "metadata": {},
   "outputs": [],
   "source": [
    "# Calculate jobs indicator"
   ]
  },
  {
   "cell_type": "code",
   "execution_count": null,
   "id": "c591d3c8-f4aa-410c-95f8-546da0ebbd5d",
   "metadata": {},
   "outputs": [],
   "source": [
    "# Calculate revenue indicator"
   ]
  },
  {
   "cell_type": "code",
   "execution_count": null,
   "id": "4a558d97-3b1e-4e07-bcca-2666c522c817",
   "metadata": {},
   "outputs": [],
   "source": [
    "# New data frame only with indicators (not raw data used in calculations--remove those columns)"
   ]
  },
  {
   "cell_type": "markdown",
   "id": "0333f360-d642-4877-8a9d-b0bbe3ca3e1c",
   "metadata": {},
   "source": [
    "## Append to Existing Dataframe"
   ]
  },
  {
   "cell_type": "code",
   "execution_count": null,
   "id": "b206845d-b41f-49e0-8256-9b2ffd0d2ccd",
   "metadata": {},
   "outputs": [],
   "source": [
    "# # Use pd.concat() to append, as in: pd.concat([df1, df2]); this assumes that both dataframes have the same number of columns with same names"
   ]
  },
  {
   "cell_type": "code",
   "execution_count": null,
   "id": "181cabad-4fdb-4be8-be42-9692fb7bc451",
   "metadata": {},
   "outputs": [],
   "source": []
  },
  {
   "cell_type": "code",
   "execution_count": null,
   "id": "ccaa73ae-516f-4089-9b16-f8996a06e55d",
   "metadata": {},
   "outputs": [],
   "source": []
  }
 ],
 "metadata": {
  "kernelspec": {
   "display_name": "PythonData",
   "language": "python",
   "name": "pythondata"
  },
  "language_info": {
   "codemirror_mode": {
    "name": "ipython",
    "version": 3
   },
   "file_extension": ".py",
   "mimetype": "text/x-python",
   "name": "python",
   "nbconvert_exporter": "python",
   "pygments_lexer": "ipython3",
   "version": "3.11.3"
  }
 },
 "nbformat": 4,
 "nbformat_minor": 5
}
