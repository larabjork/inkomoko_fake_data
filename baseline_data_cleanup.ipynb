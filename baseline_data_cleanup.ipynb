{
 "cells": [
  {
   "cell_type": "markdown",
   "id": "fce79f7b-0b57-46aa-a21b-c88f6e1a2355",
   "metadata": {},
   "source": [
    "# BASELINE HISTORICAL DATA"
   ]
  },
  {
   "cell_type": "code",
   "execution_count": 3,
   "id": "0413b433-bc49-445f-9643-d6c10c778b33",
   "metadata": {},
   "outputs": [
    {
     "ename": "NameError",
     "evalue": "name 'os' is not defined",
     "output_type": "error",
     "traceback": [
      "\u001b[1;31m---------------------------------------------------------------------------\u001b[0m",
      "\u001b[1;31mNameError\u001b[0m                                 Traceback (most recent call last)",
      "Cell \u001b[1;32mIn[3], line 7\u001b[0m\n\u001b[0;32m      4\u001b[0m \u001b[38;5;28;01mimport\u001b[39;00m \u001b[38;5;21;01mos\u001b[39;00m\n\u001b[0;32m      5\u001b[0m \u001b[38;5;28;01mimport\u001b[39;00m \u001b[38;5;21;01mmysql\u001b[39;00m\u001b[38;5;21;01m.\u001b[39;00m\u001b[38;5;21;01mconnector\u001b[39;00m\n\u001b[1;32m----> 7\u001b[0m \u001b[38;5;28;01mfrom\u001b[39;00m \u001b[38;5;21;01mconfig\u001b[39;00m \u001b[38;5;28;01mimport\u001b[39;00m username, password, host, port\n",
      "File \u001b[1;32m~\\Desktop\\inkomoko_fake_data\\config.py:1\u001b[0m\n\u001b[1;32m----> 1\u001b[0m username \u001b[38;5;241m=\u001b[39m \u001b[43mos\u001b[49m\u001b[38;5;241m.\u001b[39menviron\u001b[38;5;241m.\u001b[39mget(\u001b[38;5;124m'\u001b[39m\u001b[38;5;124madmin\u001b[39m\u001b[38;5;124m'\u001b[39m)\n\u001b[0;32m      2\u001b[0m password \u001b[38;5;241m=\u001b[39m os\u001b[38;5;241m.\u001b[39menviron\u001b[38;5;241m.\u001b[39mget(\u001b[38;5;124m'\u001b[39m\u001b[38;5;124mInkomoko23!\u001b[39m\u001b[38;5;124m'\u001b[39m)\n\u001b[0;32m      3\u001b[0m host \u001b[38;5;241m=\u001b[39m os\u001b[38;5;241m.\u001b[39menviron\u001b[38;5;241m.\u001b[39mget(\u001b[38;5;124m'\u001b[39m\u001b[38;5;124m41.242.142.227\u001b[39m\u001b[38;5;124m'\u001b[39m)\n",
      "\u001b[1;31mNameError\u001b[0m: name 'os' is not defined"
     ]
    }
   ],
   "source": [
    "# Import dependencies\n",
    "import pandas as pd\n",
    "import numpy as np\n",
    "import os\n",
    "import mysql.connector\n",
    "\n",
    "from config import username, password, host, port"
   ]
  },
  {
   "cell_type": "code",
   "execution_count": null,
   "id": "369e875c-fbff-4ac4-a5e8-8e147fe92d0a",
   "metadata": {},
   "outputs": [],
   "source": [
    "# Import Excel or csv file for survey data\n",
    "baseline1 = pd.read_csv('original_data/Kenya_2019_BGS_LivelihoodProgram_Kakuma_Cohort1_baseline_copy.csv')\n",
    "# Create data frame for survey data\n",
    "kenya_2019_001 = pd.DataFrame(data = baseline1)\n",
    "kenya_2019_001.head()\n"
   ]
  },
  {
   "cell_type": "code",
   "execution_count": null,
   "id": "96283534-da1f-45da-be5d-df9e868e294a",
   "metadata": {},
   "outputs": [],
   "source": [
    "# Add column with survey ID\n",
    "kenya_2019_001.insert(0, 'survey_id', 'KEN-2019-001')\n",
    "kenya_2019_001.head()"
   ]
  },
  {
   "cell_type": "markdown",
   "id": "7feb85d7-a2c2-4c49-84f8-3fd384e18a0d",
   "metadata": {},
   "source": [
    "## Removing Irrelevant Data"
   ]
  },
  {
   "cell_type": "code",
   "execution_count": null,
   "id": "03ac7cdc-f9ad-495f-a09a-7477a7c14276",
   "metadata": {},
   "outputs": [],
   "source": [
    "# Filter out inactive businesses"
   ]
  },
  {
   "cell_type": "code",
   "execution_count": null,
   "id": "f675b9b7-0e21-4237-8039-e058c2e25194",
   "metadata": {},
   "outputs": [],
   "source": [
    "# Get list of column names\n",
    "column_names = list(kenya_2019_001.columns.values)\n",
    "column_names"
   ]
  },
  {
   "cell_type": "code",
   "execution_count": null,
   "id": "172c29c4-ee1c-407a-bc00-228b2378b44d",
   "metadata": {},
   "outputs": [],
   "source": [
    "# Create new data frame with only the relevant columns\n",
    "kenya_2019_001_selected = kenya_2019_001[['survey_id',\n",
    "                                      'demo_age',\n",
    "                                      'demo_gender',\n",
    "                                      'entreprenuer_strata',\n",
    "                                      'assets_acquired_6']]\n",
    "\n",
    "# Change column names to match Excel\n",
    "kenya_2019_001_base = kenya_2019_001_selected.rename(columns = {'demo_gender': 'demo_gender_id'})\n",
    "\n",
    "# If survey didn't include questions for key metrics, add empty columns\n",
    "kenya_2019_001_base['asset_indicator_base'] = '1'\n",
    "kenya_2019_001_base['hh_expense_indicator_base'] = ''\n",
    "kenya_2019_001_base['jobs_created_base'] = ''\n",
    "kenya_2019_001_base['revenue_base'] = ''\n",
    "\n",
    "# # Rearrange column order to match Excel spreadsheet\n",
    "\n",
    "kenya_2019_001_base.head()"
   ]
  },
  {
   "cell_type": "markdown",
   "id": "6448ca2a-d022-4129-9808-f83b041cfe4f",
   "metadata": {},
   "source": [
    "## Standardize Remaining Data"
   ]
  },
  {
   "cell_type": "code",
   "execution_count": null,
   "id": "9675cad5-857c-4644-9b76-73606f5651d1",
   "metadata": {},
   "outputs": [],
   "source": [
    "# Check data types\n",
    "kenya_2019_001_base.dtypes"
   ]
  },
  {
   "cell_type": "code",
   "execution_count": null,
   "id": "b2b566ab-d2a5-45be-a403-38779a46fde8",
   "metadata": {},
   "outputs": [],
   "source": [
    "# Check null values (some columns are OK to have null values)\n",
    "kenya_2019_001_base.isna().sum()"
   ]
  },
  {
   "cell_type": "code",
   "execution_count": null,
   "id": "3a71080c-1228-4e99-9ab3-9f6f90e642f3",
   "metadata": {},
   "outputs": [],
   "source": [
    "# Add column for age categories\n",
    "kenya_2019_001_base.insert(2, 'demo_age_category', '')\n",
    "\n",
    "conditions = [\n",
    "    (kenya_2019_001_base['demo_age'] < 36),\n",
    "    (kenya_2019_001_base['demo_age'] >= 36) & (kenya_2019_001_base['demo_age'] < 46),\n",
    "    (kenya_2019_001_base['demo_age'] >= 46) & (kenya_2019_001_base['demo_age'] < 56),\n",
    "    (kenya_2019_001_base['demo_age'] >= 56)\n",
    "]\n",
    "\n",
    "values = ['18-35 years old', '36-45 years old', '45-55 years old', '56+ years old']\n",
    "\n",
    "kenya_2019_001_base['demo_age_category'] = np.select(conditions, values)\n",
    "\n",
    "kenya_2019_001_base.head()\n"
   ]
  },
  {
   "cell_type": "code",
   "execution_count": null,
   "id": "153a5c8c-9b95-4b61-bd0a-fac4b667e388",
   "metadata": {},
   "outputs": [],
   "source": [
    "# Convert male/female to 0/1 if necessary \n",
    "# no changes needed for this survey"
   ]
  },
  {
   "cell_type": "code",
   "execution_count": null,
   "id": "0bbf31b8-e887-43aa-b9cf-3c8281ede2c2",
   "metadata": {},
   "outputs": [],
   "source": [
    "# Convert text values on demo_strata_id as needed \n",
    "kenya_2019_001_base.insert(5, 'demo_strata_id', '')\n",
    "\n",
    "conditions_strata = [\n",
    "    (kenya_2019_001_base['entreprenuer_strata'] == 'kenyan_client'),\n",
    "    (kenya_2019_001_base['entreprenuer_strata'] == 'refugee-client')\n",
    "]\n",
    "\n",
    "values_strata = [1,0]\n",
    "\n",
    "kenya_2019_001_base['demo_strata_id'] = np.select(conditions_strata, values_strata)\n",
    "\n",
    "kenya_2019_001_base.head()"
   ]
  },
  {
   "cell_type": "code",
   "execution_count": null,
   "id": "082a748c-9c65-4a99-a53b-1d2846c7f7b2",
   "metadata": {},
   "outputs": [],
   "source": [
    "# Drop text columns that have been converted to numeric\n",
    "kenya_2019_001_base.drop(columns=['entreprenuer_strata'], inplace = True)"
   ]
  },
  {
   "cell_type": "markdown",
   "id": "ee0089c9-598f-4c25-87d3-412aeb42bbfc",
   "metadata": {},
   "source": [
    "## Transform Raw Data into Power BI Indicators"
   ]
  },
  {
   "cell_type": "code",
   "execution_count": null,
   "id": "3d424ec8-c463-4d07-983b-87f983fae3f3",
   "metadata": {},
   "outputs": [],
   "source": [
    "# Calculate asset indicator\n",
    "# kenya_2019_001_base['assets_acquired_6'] = kenya_2019_001_base['assets_acquired_6'.fillna(0, inplace = True)]\n",
    "\n",
    "\n",
    "# kenya_2019_001_base.loc[kenya_2019_001_base['assets_acquired_6'] == \"NaN\", 'asset_indicator_base'] = 0\n",
    "# kenya_2019_001_base.tail(10)\n",
    "kenya_2019_001_base.drop(columns=['assets_acquired_6'], inplace = True)"
   ]
  },
  {
   "cell_type": "code",
   "execution_count": null,
   "id": "0fcb6283-ad35-4ff1-a033-3672eb811533",
   "metadata": {},
   "outputs": [],
   "source": [
    "# Calculate household expense indicator\n",
    "# None for this survey"
   ]
  },
  {
   "cell_type": "code",
   "execution_count": null,
   "id": "56156100-b404-4a64-be23-7f80fafcbc5e",
   "metadata": {},
   "outputs": [],
   "source": [
    "# Calculate jobs indicator"
   ]
  },
  {
   "cell_type": "code",
   "execution_count": null,
   "id": "c591d3c8-f4aa-410c-95f8-546da0ebbd5d",
   "metadata": {},
   "outputs": [],
   "source": [
    "# Calculate revenue indicator"
   ]
  },
  {
   "cell_type": "code",
   "execution_count": null,
   "id": "4a558d97-3b1e-4e07-bcca-2666c522c817",
   "metadata": {},
   "outputs": [],
   "source": [
    "# New data frame only with indicators (not raw data used in calculations--remove those columns)"
   ]
  },
  {
   "cell_type": "markdown",
   "id": "0333f360-d642-4877-8a9d-b0bbe3ca3e1c",
   "metadata": {},
   "source": [
    "## Append to Excel"
   ]
  },
  {
   "cell_type": "code",
   "execution_count": null,
   "id": "b206845d-b41f-49e0-8256-9b2ffd0d2ccd",
   "metadata": {},
   "outputs": [],
   "source": [
    "# Export data frame to existing Excel\n",
    "with pd.ExcelWriter('baseline_all_surveys.xlsx', engine=\"openpyxl\", mode = 'a', if_sheet_exists = 'overlay') as writer:\n",
    "    kenya_2019_001_base.to_excel(writer, sheet_name = 'Sheet1')"
   ]
  },
  {
   "cell_type": "code",
   "execution_count": null,
   "id": "181cabad-4fdb-4be8-be42-9692fb7bc451",
   "metadata": {},
   "outputs": [],
   "source": []
  },
  {
   "cell_type": "code",
   "execution_count": null,
   "id": "ccaa73ae-516f-4089-9b16-f8996a06e55d",
   "metadata": {},
   "outputs": [],
   "source": []
  }
 ],
 "metadata": {
  "kernelspec": {
   "display_name": "PythonData",
   "language": "python",
   "name": "pythondata"
  },
  "language_info": {
   "codemirror_mode": {
    "name": "ipython",
    "version": 3
   },
   "file_extension": ".py",
   "mimetype": "text/x-python",
   "name": "python",
   "nbconvert_exporter": "python",
   "pygments_lexer": "ipython3",
   "version": "3.11.3"
  }
 },
 "nbformat": 4,
 "nbformat_minor": 5
}
